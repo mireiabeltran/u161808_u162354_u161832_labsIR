{
 "cells": [
  {
   "cell_type": "markdown",
   "metadata": {},
   "source": [
    "# IRWA Final Project "
   ]
  },
  {
   "cell_type": "markdown",
   "metadata": {},
   "source": [
    "This project aims to build a search engine implementing different indexing and ranking algorithms. This will be done using a file containing a set of tweets from the World Health Organization (@WHO).\n",
    "\n",
    "It will be divided in four parts:\n",
    "\n",
    "    1) Text processing\n",
    "    2) Indexing and ranking\n",
    "    3) Evaluation \n",
    "    4) User Interface and Web analytics\n"
   ]
  },
  {
   "cell_type": "markdown",
   "metadata": {},
   "source": [
    "Students Group 9:\n",
    "- Mireia Beltran (U161808)\n",
    "- Cisco Orteu (U162354)\n",
    "- Laura Casanovas (U161832)"
   ]
  },
  {
   "cell_type": "markdown",
   "metadata": {},
   "source": [
    "#### Packages\n",
    "\n",
    "We first import all the packages needed for text processing. "
   ]
  },
  {
   "cell_type": "code",
   "execution_count": 1,
   "metadata": {},
   "outputs": [],
   "source": [
    "import warnings\n",
    "warnings.filterwarnings(\"ignore\")"
   ]
  },
  {
   "cell_type": "code",
   "execution_count": 3,
   "metadata": {},
   "outputs": [],
   "source": [
    "from collections import defaultdict\n",
    "from array import array\n",
    "from nltk.stem import PorterStemmer\n",
    "from nltk.corpus import stopwords\n",
    "import math\n",
    "import numpy as np\n",
    "import collections\n",
    "from numpy import linalg as la\n",
    "from gensim.models.word2vec import Word2Vec\n",
    "import matplotlib\n",
    "import matplotlib.pyplot as plt\n",
    "from sklearn.manifold import TSNE"
   ]
  },
  {
   "cell_type": "code",
   "execution_count": 4,
   "metadata": {},
   "outputs": [
    {
     "name": "stderr",
     "output_type": "stream",
     "text": [
      "[nltk_data] Downloading package stopwords to\n",
      "[nltk_data]     C:\\Users\\mire2\\AppData\\Roaming\\nltk_data...\n",
      "[nltk_data]   Package stopwords is already up-to-date!\n"
     ]
    }
   ],
   "source": [
    "# if you do not have 'nltk', the following command should work \"python -m pip install nltk\"\n",
    "import nltk\n",
    "nltk.download('stopwords')\n",
    "from collections import defaultdict\n",
    "from array import array\n",
    "from nltk.stem import PorterStemmer\n",
    "from nltk.corpus import stopwords\n",
    "import math\n",
    "import numpy as np\n",
    "import collections\n",
    "from numpy import linalg as la\n",
    "import json\n",
    "import regex as re \n",
    "import string"
   ]
  },
  {
   "cell_type": "markdown",
   "metadata": {},
   "source": [
    "#### Load data into memory\n",
    "\n",
    "The dataset is stored in a txt file ```dataset_tweets_WHO.txt```and it contains a set of tweets in json format. We create tweets_data by using json.loads() function, which from a JSON string it can be parsed and it returns the content of the file."
   ]
  },
  {
   "cell_type": "code",
   "execution_count": 5,
   "metadata": {},
   "outputs": [],
   "source": [
    "text = open('dataset_tweets_WHO.txt', 'r')"
   ]
  },
  {
   "cell_type": "code",
   "execution_count": 6,
   "metadata": {},
   "outputs": [],
   "source": [
    "tweets_data=[]\n",
    "for line in text:\n",
    "    tweet=json.loads(line)\n",
    "    tweets_data.append(tweet)\n",
    "text.close()"
   ]
  },
  {
   "cell_type": "markdown",
   "metadata": {},
   "source": [
    "#### Dataset Creation"
   ]
  },
  {
   "cell_type": "markdown",
   "metadata": {},
   "source": [
    "In order to read and process each tweet, we create a dictionary in which we will have just one row, and each column will contain one tweet"
   ]
  },
  {
   "cell_type": "code",
   "execution_count": 7,
   "metadata": {},
   "outputs": [],
   "source": [
    "import pandas as pd\n",
    "\n",
    "# Build DataFrame of tweet texts and languages\n",
    "df = pd.DataFrame(tweets_data)"
   ]
  },
  {
   "cell_type": "markdown",
   "metadata": {},
   "source": [
    "We now create a new variable called 'texts' which will contain in each position of the array a tweet. Below this cell we print as an example the content of the first position of the array"
   ]
  },
  {
   "cell_type": "code",
   "execution_count": 8,
   "metadata": {},
   "outputs": [],
   "source": [
    "texts=[]\n",
    "for i in df:\n",
    "    line =  df[i].item()['full_text']\n",
    "    texts.append(str(line))"
   ]
  },
  {
   "cell_type": "code",
   "execution_count": 9,
   "metadata": {},
   "outputs": [
    {
     "data": {
      "text/plain": [
       "\"It's International Day for Disaster Risk Reduction\\n\\n#OpenWHO has launched a multi-tiered core curriculum to help equip you with the competencies needed to work within public health emergency response.\\n\\nStart learning today &amp; be #Ready4Response:\\n👉 https://t.co/hBFFOF0xKL https://t.co/fgZY22RWuS\""
      ]
     },
     "execution_count": 9,
     "metadata": {},
     "output_type": "execute_result"
    }
   ],
   "source": [
    "texts[0]"
   ]
  },
  {
   "cell_type": "markdown",
   "metadata": {},
   "source": [
    "## 1) Text Processing"
   ]
  },
  {
   "cell_type": "markdown",
   "metadata": {},
   "source": [
    "We implement the function ```build_terms(text)```.\n",
    "\n",
    "It takes as input a text and performs the following operations:\n",
    "\n",
    "- Stem terms\n",
    "- Remove stop words\n",
    "- Remove punctuation \n",
    "- Remove links\n",
    "- Remove emojis\n",
    "- Transform all text to lowercase\n",
    "- Tokenize the text to get a list of terms\n",
    "\n",
    "(We decided not to remove hashtags since it may be interesting to treat them separately later)"
   ]
  },
  {
   "cell_type": "code",
   "execution_count": 10,
   "metadata": {},
   "outputs": [],
   "source": [
    "def build_terms(text):\n",
    "    \"\"\"\n",
    "    Preprocess the article text (title + body) removing stop words, stemming,\n",
    "    transforming in lowercase and return the tokens of the text.\n",
    "    \n",
    "    Argument:\n",
    "    text -- string (text) to be preprocessed\n",
    "    \n",
    "    Returns:\n",
    "    text - a list of tokens corresponding to the input text after the preprocessing\n",
    "    \"\"\"\n",
    "    # create the pattern\n",
    "    stemmer = PorterStemmer()\n",
    "    \n",
    "    stop_words = set(stopwords.words(\"english\"))\n",
    "    remove = string.punctuation\n",
    "    remove = remove.replace(\"#\", \"–\")# don't remove hashtags\n",
    "    remove = remove+'¿'\n",
    "    pattern = r\"[{}]\".format(remove) # create the pattern\n",
    "    text = re.sub(pattern, \"\", text)\n",
    "    text = re.sub(r'http\\S+', '', text)\n",
    "    \n",
    "    #compile a regular expression pattern into a regular expression object\n",
    "    emoji_pattern = re.compile(\"[\"\n",
    "        u\"\\U0001F600-\\U0001F64F\"  # emoticons\n",
    "        u\"\\U0001F300-\\U0001F5FF\"  # symbols & pictographs\n",
    "        u\"\\U0001F680-\\U0001F6FF\"  # transport & map symbols\n",
    "        u\"\\U0001F1E0-\\U0001F1FF\"  # flags (iOS)\n",
    "        u\"\\U00002702-\\U000027B0\"\n",
    "        u\"\\U000024C2-\\U0001F251\"\n",
    "                           \"]+\", flags=re.UNICODE)\n",
    "    #Return the string obtained by replacing the leftmost non-overlapping occurrences of pattern in string by the replacement\n",
    "    text = emoji_pattern.sub(r'', text) # no emoji\n",
    "    \n",
    "    # Transform in lowercase\n",
    "    text=  str.lower(text) \n",
    "    # Tokenize the text to get a list of terms\n",
    "    text=  text.split() \n",
    "    # Eliminate the stopwords\n",
    "    text=[l for l in text if l not in stop_words] \n",
    "    \n",
    "\n",
    "    # Perform stemming \n",
    "    text=[stemmer.stem(word) for word in text]\n",
    "    \n",
    "    return text"
   ]
  },
  {
   "cell_type": "code",
   "execution_count": 11,
   "metadata": {},
   "outputs": [],
   "source": [
    "texts_processed = []\n",
    "for i in range(len(texts)):\n",
    "    texts_processed.append(build_terms(texts[i]))\n",
    "    "
   ]
  },
  {
   "cell_type": "markdown",
   "metadata": {},
   "source": [
    "# 2) Indexing and evaluation"
   ]
  },
  {
   "cell_type": "markdown",
   "metadata": {},
   "source": [
    "To create the index we use the function ```create_index(text)```. "
   ]
  },
  {
   "cell_type": "code",
   "execution_count": 12,
   "metadata": {},
   "outputs": [],
   "source": [
    "def create_index(texts, num_documents):\n",
    "    \"\"\"\n",
    "    Implement the inverted index\n",
    "    \n",
    "    Argument:\n",
    "    lines -- collection of Wikipedia articles\n",
    "    \n",
    "    Returns:\n",
    "    index - the inverted index (implemented through a Python dictionary) containing terms as keys and the corresponding\n",
    "    list of documents where these keys appears in (and the positions) as values.\n",
    "    idf,tf,df\n",
    "    \"\"\"\n",
    "    index = defaultdict(list)\n",
    "    tf = defaultdict(list)  #term frequencies of terms in documents (documents in the same order as in the main index)\n",
    "    df = defaultdict(int)  #document frequencies of terms in the corpus\n",
    "    title_index = {}  # dictionary to map page titles to page ids\n",
    "    idf = defaultdict(float)\n",
    "    tweet_id = 0\n",
    "    for text in texts:  # Remember, lines contain all documents\n",
    "        terms = build_terms(text) #page_title + page_text\n",
    "        tweet_id += 1\n",
    "        title_index[tweet_id]=text  \n",
    "        \n",
    "        \n",
    "        doc_freq = {i:terms.count(i) for i in terms}\n",
    "        current_page_index = {}\n",
    "        \n",
    "        for position, term in enumerate(terms): # terms contains page_title + page_text. Loop over all terms\n",
    "            \n",
    "            try:\n",
    "                # if the term is already in the index for the current page (current_page_index)\n",
    "                # append the position to the corresponding list\n",
    "                \n",
    "\n",
    "                current_page_index[term][1].append(position)  \n",
    "            except:\n",
    "                # Add the new term as dict key and initialize the array of positions and add the position\n",
    "                current_page_index[term] = [tweet_id, array('I',[position])] #'I' indicates unsigned int (int in Python)\n",
    "        \n",
    "        norm = 0\n",
    "        for term, posting in current_page_index.items():\n",
    "            # posting will contain the list of positions for current term in current document. \n",
    "            # posting ==> [current_doc, [list of positions]] \n",
    "            # you can use it to infer the frequency of current term.\n",
    "            norm += len(posting[1]) ** 2\n",
    "        norm = math.sqrt(norm)\n",
    "            \n",
    "\n",
    "        #calculate the tf(dividing the term frequency by the above computed norm) and df weights\n",
    "        for term, posting in current_page_index.items():\n",
    "            # append the tf for current term (tf = term frequency in current doc/norm)\n",
    "            tf[term].append(np.round(len(posting[1])/norm,4)) ## SEE formula (1) above\n",
    "            #increment the document frequency of current term (number of documents containing the current term)\n",
    "            df[term] +=1 # increment DF for current term\n",
    "\n",
    "        #merge the current page index with the main index\n",
    "        for term_page, posting_page in current_page_index.items():\n",
    "            index[term_page].append(posting_page)\n",
    "\n",
    "        # Compute IDF following the formula (3) above. HINT: use np.log\n",
    "        for term in df:\n",
    "            idf[term] = np.round(np.log(float(num_documents/df[term])), 4)\n",
    "\n",
    "    return index, tf, df, idf, title_index"
   ]
  },
  {
   "cell_type": "code",
   "execution_count": 13,
   "metadata": {},
   "outputs": [
    {
     "name": "stdout",
     "output_type": "stream",
     "text": [
      "Total time to create the index: 92.18 seconds\n"
     ]
    }
   ],
   "source": [
    "import time\n",
    "start_time = time.time()\n",
    "index, tf, df, idf, title_index = create_index(texts, len(texts))\n",
    "print(\"Total time to create the index: {} seconds\".format(np.round(time.time() - start_time, 2)))"
   ]
  },
  {
   "cell_type": "markdown",
   "metadata": {},
   "source": [
    "Here we have an example of the index of the word researcher:"
   ]
  },
  {
   "cell_type": "code",
   "execution_count": 14,
   "metadata": {},
   "outputs": [
    {
     "name": "stdout",
     "output_type": "stream",
     "text": [
      "Index results for the term 'researcher': []\n",
      "\n",
      "First 10 Index results for the term 'research': \n",
      "[[23, array('I', [16])], [154, array('I', [22])], [172, array('I', [17])], [204, array('I', [5])], [211, array('I', [8])], [212, array('I', [5])], [222, array('I', [6])], [423, array('I', [12])], [429, array('I', [4])], [460, array('I', [23])]]\n"
     ]
    }
   ],
   "source": [
    "print(\"Index results for the term 'researcher': {}\\n\".format(index['researcher']))\n",
    "print(\"First 10 Index results for the term 'research': \\n{}\".format(index['research'][:10]))"
   ]
  },
  {
   "cell_type": "markdown",
   "metadata": {},
   "source": [
    "We start with the evaluation"
   ]
  },
  {
   "cell_type": "code",
   "execution_count": 15,
   "metadata": {},
   "outputs": [],
   "source": [
    "def rank_documents(terms, docs, index, idf, tf, title_index):\n",
    "    \"\"\"\n",
    "    Perform the ranking of the results of a search based on the tf-idf weights\n",
    "    \n",
    "    Argument:\n",
    "    terms -- list of query terms\n",
    "    docs -- list of documents, to rank, matching the query\n",
    "    index -- inverted index data structure\n",
    "    idf -- inverted document frequencies\n",
    "    tf -- term frequencies\n",
    "    title_index -- mapping between page id and page title\n",
    "    \n",
    "    Returns:\n",
    "    Print the list of ranked documents\n",
    "    \"\"\"\n",
    "\n",
    "    # I'm interested only on the element of the docVector corresponding to the query terms \n",
    "    # The remaining elements would became 0 when multiplied to the query_vector\n",
    "    doc_vectors = defaultdict(lambda: [0] * len(terms)) # I call doc_vectors[k] for a nonexistent key k, the key-value pair (k,[0]*len(terms)) will be automatically added to the dictionary\n",
    "    query_vector = [0] * len(terms)\n",
    "\n",
    "    # compute the norm for the query tf\n",
    "    query_terms_count = collections.Counter(terms)  # get the frequency of each term in the query. \n",
    "    # Example: collections.Counter([\"hello\",\"hello\",\"world\"]) --> Counter({'hello': 2, 'world': 1})\n",
    "    #HINT: use when computing tf for query_vector\n",
    "\n",
    "    query_norm = la.norm(list(query_terms_count.values()))\n",
    "\n",
    "    for termIndex, term in enumerate(terms):  #termIndex is the index of the term in the query\n",
    "        if term not in index:\n",
    "            continue\n",
    "\n",
    "        ## Compute tf*idf(normalize TF as done with documents)\n",
    "        query_vector[termIndex]=query_terms_count[term]/query_norm * idf[term] \n",
    "\n",
    "        # Generate doc_vectors for matching docs\n",
    "        for doc_index, (doc, postings) in enumerate(index[term]):\n",
    "            # Example of [doc_index, (doc, postings)]\n",
    "            # 0 (26, array('I', [1, 4, 12, 15, 22, 28, 32, 43, 51, 68, 333, 337]))\n",
    "            # 1 (33, array('I', [26, 33, 57, 71, 87, 104, 109]))\n",
    "            # term is in doc 26 in positions 1,4, .....\n",
    "            # term is in doc 33 in positions 26,33, .....\n",
    "\n",
    "            #tf[term][0] will contain the tf of the term \"term\" in the doc 26            \n",
    "            if doc in docs:\n",
    "                doc_vectors[doc][termIndex] = tf[term][doc_index] * idf[term]  # TODO: check if multiply for idf\n",
    "\n",
    "    # Calculate the score of each doc \n",
    "    # compute the cosine similarity between queyVector and each docVector:\n",
    "    # HINT: you can use the dot product because in case of normalized vectors it corresponds to the cosine similarity\n",
    "    # see np.dot\n",
    "    \n",
    "    doc_scores=[[np.dot(curDocVec, query_vector), doc] for doc, curDocVec in doc_vectors.items() ]\n",
    "    doc_scores.sort(reverse=True)\n",
    "    result_docs = [x[1] for x in doc_scores]\n",
    "    #print document titles instead if document id's\n",
    "    #result_docs=[ title_index[x] for x in result_docs ]\n",
    "    if len(result_docs) == 0:\n",
    "        print(\"No results found, try again\")\n",
    "        query = input()\n",
    "        docs = search(query, index)\n",
    "    #print ('\\n'.join(result_docs), '\\n')\n",
    "    return result_docs, doc_scores"
   ]
  },
  {
   "cell_type": "code",
   "execution_count": 16,
   "metadata": {},
   "outputs": [],
   "source": [
    "def search(query, index):\n",
    "    \"\"\"\n",
    "    The output is the list of documents that contain any of the query terms. \n",
    "    So, we will get the list of documents for each query term, and take the union of them.\n",
    "    \"\"\"\n",
    "    query = build_terms(query)\n",
    "    docs = set()\n",
    "    for term in query:\n",
    "    ## START DODE\n",
    "        try:\n",
    "            # store in term_docs the ids of the docs that contain \"term\"                        \n",
    "            term_docs=[posting[0] for posting in index[term]]\n",
    "            # docs = docs intersection term_docs\n",
    "            if len(docs)==0:\n",
    "                docs |= set(term_docs)\n",
    "            else:\n",
    "                docs = docs.intersection(set(term_docs))\n",
    "        except:\n",
    "            #term is not in index\n",
    "            pass\n",
    "    docs = list(docs)\n",
    "    ranked_docs, scores = rank_documents(query, docs, index, idf, tf, title_index)\n",
    "    return ranked_docs, scores"
   ]
  },
  {
   "cell_type": "markdown",
   "metadata": {},
   "source": [
    "To decide which queries we will pass to our algorithm:"
   ]
  },
  {
   "cell_type": "code",
   "execution_count": 17,
   "metadata": {},
   "outputs": [],
   "source": [
    "#for the queries\n",
    "top_10 = {}\n",
    "for i in index:\n",
    "    top_10[i]=len(index[i])\n",
    "top_10 = dict(sorted(top_10.items(), reverse=True, key=lambda item: item[1]))"
   ]
  },
  {
   "cell_type": "code",
   "execution_count": 18,
   "metadata": {},
   "outputs": [
    {
     "name": "stdout",
     "output_type": "stream",
     "text": [
      "\n",
      "======================\n",
      "Sample of {} results out of {} for the query ' global pandemic '\n",
      "\n",
      "tweet_id= 1006 - tweet: @DrTedros \"But the lessons from West Africa were not sufficient to prepare the world for a global pandemic of a respiratory pathogen\"-@DrTedros https://t.co/BIB3WZmPep\n",
      "\n",
      "tweet_id= 517 - tweet: Global leaders attending the 🇺🇸-hosted Global #COVID19 Summit re-affirm their commitment to ending the acute phase of the pandemic, and the goals of the @ACTAccelerator, by agreeing targets to provide equitable access to:\n",
      "✅tests\n",
      "✅treatments\n",
      "✅vaccines\n",
      "\n",
      "👉https://t.co/T3utXY29Bv https://t.co/njtxVXEbs0\n",
      "\n",
      "tweet_id= 1088 - tweet: \"Most recently, the @g20org established a High-Level Independent Panel on Financing the Global Commons for Pandemic Preparedness and Response.\"-@DrTedros \n",
      "https://t.co/5U2cYU5mDm\n",
      "\n",
      "tweet_id= 997 - tweet: @DrTedros \"There have been several reviews of the global response to the #COVID19 pandemic, with recommendations for countries and for WHO about what we can do to keep the world safer in future\"-@DrTedros\n",
      "\n",
      "tweet_id= 984 - tweet: @DrTedros @Chikwe_I @schwartlanderb @erna_solberg @NAkufoAddo @GlobalGoalsUN @ACTAccelerator \"In October last year, I was honoured to speak to Chancellor Merkel, which is when we first discussed the idea for a new centre that would serve as a global platform to enhance global capacity for pandemic and epidemic intelligence\"-@DrTedros https://t.co/p4qUYVCdFX\n",
      "\n",
      "tweet_id= 1699 - tweet: \"The #COVID19 pandemic has revealed two critical areas in which the world needs to do far more to bolster global health security: strengthening and sharing.\"-@DrMikeRyan\n",
      "\n",
      "tweet_id= 1677 - tweet: \"That’s why the one recommendation that WHO believes will do most to strengthen both WHO and global health security is the recommendation for a treaty on pandemic preparedness and response.\"-@DrMikeRyan\n",
      "\n",
      "tweet_id= 2111 - tweet: @DrTedros @G20 \"We’re making scientific breakthroughs in global trials, but the impact is limited if we don’t share them equitably. It’s not charity, it’s the best way to end the acute stage of this pandemic, slow virus variants down and drive a global economic recovery\"-@DrTedros #ACTogether\n",
      "\n",
      "tweet_id= 1992 - tweet: @DrTedros \"As I think everyone knows, 🇩🇪 has been one of the leading lights in the fight against the #COVID19 pandemic globally, under your leadership [@jensspahn] and that of Chancellor Merkel\"-@DrTedros #ACTogether\n",
      "\n",
      "tweet_id= 311 - tweet: RT @WHOAFRO: Join tomorrow's media briefing on the #COVID19 pandemic &amp; the global 10% COVID-19 vaccination milestones reached by countries…\n",
      "\n",
      "\n",
      "======================\n",
      "Sample of {} results out of {} for the query ' world disease '\n",
      "\n",
      "tweet_id= 1774 - tweet: \"18 months ago, most people outside the life sciences world had never heard of mRNA. But the very high efficacy of two mRNA vaccines for #COVID19 have shown the world just how powerful this technology could be against many diseases, including #malaria.\"-@DrTedros\n",
      "\n",
      "tweet_id= 2274 - tweet: Congratulations #China🇨🇳 for being certified \n",
      "#malaria-free. 👏👏\n",
      " \n",
      "This remarkable achievement comes after a 70 years-long fight against this disease. \n",
      "\n",
      "The world is now a step closer to #EndMalaria \n",
      "👉 https://t.co/GfrX7ptCVG https://t.co/IN6PnQBKXA\n",
      "\n",
      "tweet_id= 1644 - tweet: @DrTedros \"My answer was that the #COVID19 pandemic will end when the world chooses to end it. It’s in our hands. \n",
      "\n",
      "We have all the tools we need: we can prevent this disease, we can test for it, and we can treat it\"-@DrTedros #Tokyo2020 https://t.co/bmHXwlUDAa\n",
      "\n",
      "tweet_id= 320 - tweet: Why does #ClimateChange put the health of billions at risk of diseases? What will happen when new areas of the world are hot and humid enough to support pathogen-carrying mosquitoes 🦟?\n",
      "\n",
      "Find out in the 🆕 episode of the 'EYE on #YellowFever' podcast:\n",
      "🔉 https://t.co/ocNf6vDRQr https://t.co/fdqMj8Ry53\n",
      "\n",
      "tweet_id= 1178 - tweet: From #COVID19, which continues to wreak havoc around the world, to the next \"Disease X\", this global framework to study the emergence of new &amp; known high threat pathogens needs to:\n",
      "-be comprehensive &amp; coordinated based on a One Health approach\n",
      "-encompass biosafety and biosecurity\n",
      "\n",
      "\n",
      "======================\n",
      "Sample of {} results out of {} for the query ' emergency call '\n",
      "\n",
      "tweet_id= 762 - tweet: .@DrMikeRyan explains what are the criteria for calling off a pandemic and Public Health Emergency of International Concern ⬇️ https://t.co/WSjqMMumSc\n",
      "\n",
      "tweet_id= 856 - tweet: @DrTedros \"We thank those countries that recognize all vaccines with WHO Emergency Use Listing, and we call on all countries to do the same\"-@DrTedros #COVID19 https://t.co/SxVrUSmtqw\n",
      "\n",
      "tweet_id= 744 - tweet: @DrTedros @gavi @CEPIvaccines @UNICEF @_AfricanUnion @JNkengasong @SongweVera @CyrilRamaphosa \"We call on all countries to recognize all #COVID19 vaccines with WHO Emergency Use Listing\"-@DrTedros #VaccinEquity\n",
      "\n",
      "tweet_id= 1949 - tweet: #SelfCare diagnostic technologies are revolutionary and critical including during emergencies if in-person health services are disrupted. \n",
      "\n",
      "WHO is calling for wider access to these tools in ALL countries.\n",
      "👉 https://t.co/AL97QEjcvQ\n",
      "\n",
      "#SelfCare Month https://t.co/CWASTQhsqK\n",
      "\n",
      "tweet_id= 1362 - tweet: To move forward, WHO calls for all governments to depoliticize the situation and cooperate to accelerate the #COVID19 virus origins studies, and importantly to work together to develop a common framework for future emerging pathogens of pandemic potential.\n",
      "\n",
      "\n",
      "======================\n",
      "Sample of {} results out of {} for the query ' countries risk '\n",
      "\n",
      "tweet_id= 1349 - tweet: @DrTedros So far, over 75% of the #COVID19 vaccines available have been administered in only 10 countries. Low-income countries have received just over 1%, nowhere near enough to fully vaccinate their #healthworkers and at most risk populations. \n",
      "\n",
      "#VaccinEquity \n",
      "\n",
      "https://t.co/w7ZmprS6Bs\n",
      "\n",
      "tweet_id= 2318 - tweet: Experiencing violence is a risk factor for mental illness. Globally, 1 in 3 (35%) of women will experience interpersonal violence in their lifetime. In Pacific Island countries, this rate is much higher; in some of these countries, it is more than 60%. https://t.co/ctYiSQo2Ez https://t.co/XQl9PCPn4h\n",
      "\n",
      "tweet_id= 169 - tweet: The 🆕 Strategy launched today aims to help bring an end to what has become a two-track #COVID19 pandemic: people in poorer countries continue to be at risk while those in richer countries with high vaccination rates enjoy much greater protection.\n",
      "\n",
      "👉https://t.co/TIshOPIbiO https://t.co/hgIljVVGNE\n",
      "\n",
      "tweet_id= 2009 - tweet: Without high childhood vaccination rates, countries face risks of multiple disease outbreaks. Spread of diseases like #measles, polio or meningitis could be catastrophic for countries already battling #COVID19.\n",
      "\n",
      "👉https://t.co/bt6n7OAQrq #VaccinesWork https://t.co/mcAl4UdzMb\n",
      "\n",
      "tweet_id= 550 - tweet: Without high childhood vaccination rates, countries face risks of multiple disease outbreaks. \n",
      "Spread of diseases like #measles, polio or #meningitis could be catastrophic for countries already battling #COVID19.\n",
      "\n",
      "#VaccinesWork https://t.co/fMzb7zywqU\n",
      "\n",
      "tweet_id= 1003 - tweet: @DrTedros \"Viruses move fast, but data can move even faster. \n",
      "\n",
      "With the right information, countries and communities can stay ahead of emerging risks, and save lives\"-@DrTedros\n",
      "\n",
      "tweet_id= 1963 - tweet: The 🆕 report, which is based on clinical surveillance data from 37 countries, found that the risk of developing severe or fatal #COVID19 was 30% greater in people living with HIV compared to people without #HIV infection.\n",
      "\n",
      "👉 https://t.co/UEV0LGJzYP https://t.co/UkxV1FlM2e\n",
      "\n",
      "tweet_id= 2197 - tweet: \"By the end of this September, we’re calling on leaders to vaccinate at least 10% of people in all countries. \n",
      "This would protect health workers and those at most risk, effectively ending the acute stage of the [#COVID19] pandemic and saving a lot of lives.\"-@DrTedros\n",
      "\n",
      "tweet_id= 673 - tweet: Venomous #snakebite 🐍 is a serious public health problem in rural areas of tropical &amp; sub-tropical countries in Africa, the Middle-East, Asia, Oceania and Latin America. \n",
      "There, the risk of snakebite is a daily concern, especially for rural and peri-urban communities https://t.co/sqVPfRBEZV\n",
      "\n",
      "tweet_id= 271 - tweet: It is vitally important to protect #HealthWorkers and people at greatest risk in all countries.\n",
      " \n",
      "✅ Share doses.\n",
      "✅ Share know-how.\n",
      "✅ Share technologies.\n",
      "✅ Waive IP rights.\n",
      "✅ Swap deliveries, prioritize #COVAX and AVAT.\n",
      " \n",
      "https://t.co/ZVe4NiqW6K\n",
      "\n",
      "\n",
      "======================\n",
      "Sample of {} results out of {} for the query ' vaccine covid19 '\n",
      "\n",
      "tweet_id= 1960 - tweet: 💉💉💉💉\n",
      "💉💉💉💉\n",
      "💉💉💉💉\n",
      "💉💉💉💉\n",
      "💉💉💉💉                 💉💉💉💉\n",
      "💉💉💉💉                 💉💉💉💉\n",
      "\n",
      "COVID-19 vaccines     COVID-19 vaccines\n",
      "in 10 countries             in the rest of the 🌍\n",
      "\n",
      "#VaccinEquity is 🗝️ to ending the pandemic, together!\n",
      "\n",
      "#WorldEmojiDay\n",
      "\n",
      "tweet_id= 2258 - tweet: Q&amp;A #AskWHO on COVID-19 vaccines effectiveness https://t.co/FEdfOREhjn\n",
      "\n",
      "tweet_id= 1046 - tweet: ▶️ If you have #COVID19, is it safe to breastfeed your baby❓\n",
      "\n",
      "▶️ Is it safe to get vaccinated against COVID-19 if you are breastfeeding❓\n",
      "\n",
      "▶️ How can you keep your baby safe while breastfeeding 🤱 if you have COVID-19❓\n",
      "\n",
      "Dr Laurence Grummer-Strawn explains in #ScienceIn5. https://t.co/QMAq9TMY7A\n",
      "\n",
      "tweet_id= 905 - tweet: #COVID19 variants &amp; vaccines:\n",
      "\n",
      "✅ COVID-19 vaccines provide strong protection against serious illness &amp; death\n",
      "✅ Get all necessary doses to develop maximum protection\n",
      "✅ Continue practicing all the protective behaviours even after vaccination to stop COVID-19 variants\n",
      "\n",
      "tweet_id= 936 - tweet: RT @WHONepal: Nepal has administered more than 🔟million doses of COVID-19 💉💉💉, fully vaccinating 15% of its population. This feat wouldn't…\n",
      "\n",
      "tweet_id= 2203 - tweet: \"[COVID19] Delta has been detected in at least 98 countries and is spreading quickly in countries with low and high vaccination coverage.\"-@DrTedros\n",
      "\n",
      "tweet_id= 311 - tweet: RT @WHOAFRO: Join tomorrow's media briefing on the #COVID19 pandemic &amp; the global 10% COVID-19 vaccination milestones reached by countries…\n",
      "\n",
      "tweet_id= 301 - tweet: RT @WHOAFRO: 📺 LIVE: @WHOAFRO media briefing on the #COVID19 pandemic &amp; the global 10% COVID-19 vaccination milestones reached by countries…\n",
      "\n",
      "tweet_id= 1566 - tweet: Are you involved in the costing, budgeting or financing processes of #COVID19 vaccine delivery in your country?\n",
      "\n",
      "Join our 🆕 #OpenWHO course to learn how to use the COVID-19 Vaccine Introduction and deployment Costing Tool.\n",
      "\n",
      "👉 https://t.co/vyXfuxXSDB https://t.co/XPr1caIFg6\n",
      "\n",
      "tweet_id= 1850 - tweet: COVID-19 vaccine inequity is undermining 🌍 economic recovery. 🆕WHO, @UNDP and @BlavatnikSchool Dashboard on #VaccinEquity finds that low-income countries would add $38B to their GDP forecast if they had the same vaccination rate as high-income countries\n",
      "https://t.co/BsYF2eYL1G\n",
      "\n"
     ]
    }
   ],
   "source": [
    "queries = ['global pandemic', 'world disease', 'emergency call','countries risk', 'vaccine covid19']\n",
    "relevant_docs=[]\n",
    "scores_docs=[]\n",
    "for i in queries:\n",
    "    docs,scores = search(i, index)\n",
    "    top = 10\n",
    "\n",
    "    print(\"\\n======================\\nSample of {} results out of {} for the query '\", i,\"'\\n\".format(top, len(docs)))\n",
    "    for d_id in docs[:top]:\n",
    "        print(\"tweet_id= {} - tweet: {}\\n\".format(d_id, title_index[d_id]))\n",
    "        \n",
    "    relevant_docs.append(docs[:top])\n",
    "    scores_docs.append(scores[:top])"
   ]
  },
  {
   "cell_type": "code",
   "execution_count": 19,
   "metadata": {},
   "outputs": [
    {
     "data": {
      "text/html": [
       "<div>\n",
       "<style scoped>\n",
       "    .dataframe tbody tr th:only-of-type {\n",
       "        vertical-align: middle;\n",
       "    }\n",
       "\n",
       "    .dataframe tbody tr th {\n",
       "        vertical-align: top;\n",
       "    }\n",
       "\n",
       "    .dataframe thead th {\n",
       "        text-align: right;\n",
       "    }\n",
       "</style>\n",
       "<table border=\"1\" class=\"dataframe\">\n",
       "  <thead>\n",
       "    <tr style=\"text-align: right;\">\n",
       "      <th></th>\n",
       "      <th>y_pred1</th>\n",
       "      <th>y_true1</th>\n",
       "      <th>y_pred2</th>\n",
       "      <th>y_true2</th>\n",
       "      <th>y_pred3</th>\n",
       "      <th>y_true3</th>\n",
       "      <th>y_pred4</th>\n",
       "      <th>y_true4</th>\n",
       "      <th>y_pred5</th>\n",
       "      <th>y_true5</th>\n",
       "    </tr>\n",
       "  </thead>\n",
       "  <tbody>\n",
       "    <tr>\n",
       "      <th>1</th>\n",
       "      <td>0.0</td>\n",
       "      <td>0.0</td>\n",
       "      <td>0.0</td>\n",
       "      <td>0.0</td>\n",
       "      <td>0.0</td>\n",
       "      <td>0.0</td>\n",
       "      <td>0.0</td>\n",
       "      <td>0.0</td>\n",
       "      <td>0.0</td>\n",
       "      <td>0.0</td>\n",
       "    </tr>\n",
       "    <tr>\n",
       "      <th>2</th>\n",
       "      <td>0.0</td>\n",
       "      <td>0.0</td>\n",
       "      <td>0.0</td>\n",
       "      <td>0.0</td>\n",
       "      <td>0.0</td>\n",
       "      <td>0.0</td>\n",
       "      <td>0.0</td>\n",
       "      <td>0.0</td>\n",
       "      <td>0.0</td>\n",
       "      <td>0.0</td>\n",
       "    </tr>\n",
       "    <tr>\n",
       "      <th>3</th>\n",
       "      <td>0.0</td>\n",
       "      <td>0.0</td>\n",
       "      <td>0.0</td>\n",
       "      <td>0.0</td>\n",
       "      <td>0.0</td>\n",
       "      <td>0.0</td>\n",
       "      <td>0.0</td>\n",
       "      <td>1.0</td>\n",
       "      <td>0.0</td>\n",
       "      <td>0.0</td>\n",
       "    </tr>\n",
       "    <tr>\n",
       "      <th>4</th>\n",
       "      <td>0.0</td>\n",
       "      <td>0.0</td>\n",
       "      <td>0.0</td>\n",
       "      <td>0.0</td>\n",
       "      <td>0.0</td>\n",
       "      <td>0.0</td>\n",
       "      <td>0.0</td>\n",
       "      <td>0.0</td>\n",
       "      <td>0.0</td>\n",
       "      <td>0.0</td>\n",
       "    </tr>\n",
       "    <tr>\n",
       "      <th>5</th>\n",
       "      <td>0.0</td>\n",
       "      <td>0.0</td>\n",
       "      <td>0.0</td>\n",
       "      <td>0.0</td>\n",
       "      <td>0.0</td>\n",
       "      <td>0.0</td>\n",
       "      <td>0.0</td>\n",
       "      <td>0.0</td>\n",
       "      <td>0.0</td>\n",
       "      <td>0.0</td>\n",
       "    </tr>\n",
       "    <tr>\n",
       "      <th>...</th>\n",
       "      <td>...</td>\n",
       "      <td>...</td>\n",
       "      <td>...</td>\n",
       "      <td>...</td>\n",
       "      <td>...</td>\n",
       "      <td>...</td>\n",
       "      <td>...</td>\n",
       "      <td>...</td>\n",
       "      <td>...</td>\n",
       "      <td>...</td>\n",
       "    </tr>\n",
       "    <tr>\n",
       "      <th>2395</th>\n",
       "      <td>0.0</td>\n",
       "      <td>0.0</td>\n",
       "      <td>0.0</td>\n",
       "      <td>0.0</td>\n",
       "      <td>0.0</td>\n",
       "      <td>0.0</td>\n",
       "      <td>0.0</td>\n",
       "      <td>0.0</td>\n",
       "      <td>0.0</td>\n",
       "      <td>0.0</td>\n",
       "    </tr>\n",
       "    <tr>\n",
       "      <th>2396</th>\n",
       "      <td>0.0</td>\n",
       "      <td>0.0</td>\n",
       "      <td>0.0</td>\n",
       "      <td>0.0</td>\n",
       "      <td>0.0</td>\n",
       "      <td>0.0</td>\n",
       "      <td>0.0</td>\n",
       "      <td>0.0</td>\n",
       "      <td>0.0</td>\n",
       "      <td>0.0</td>\n",
       "    </tr>\n",
       "    <tr>\n",
       "      <th>2397</th>\n",
       "      <td>0.0</td>\n",
       "      <td>0.0</td>\n",
       "      <td>0.0</td>\n",
       "      <td>0.0</td>\n",
       "      <td>0.0</td>\n",
       "      <td>0.0</td>\n",
       "      <td>0.0</td>\n",
       "      <td>0.0</td>\n",
       "      <td>0.0</td>\n",
       "      <td>0.0</td>\n",
       "    </tr>\n",
       "    <tr>\n",
       "      <th>2398</th>\n",
       "      <td>0.0</td>\n",
       "      <td>0.0</td>\n",
       "      <td>0.0</td>\n",
       "      <td>0.0</td>\n",
       "      <td>0.0</td>\n",
       "      <td>0.0</td>\n",
       "      <td>0.0</td>\n",
       "      <td>0.0</td>\n",
       "      <td>0.0</td>\n",
       "      <td>0.0</td>\n",
       "    </tr>\n",
       "    <tr>\n",
       "      <th>2399</th>\n",
       "      <td>0.0</td>\n",
       "      <td>0.0</td>\n",
       "      <td>0.0</td>\n",
       "      <td>0.0</td>\n",
       "      <td>0.0</td>\n",
       "      <td>0.0</td>\n",
       "      <td>0.0</td>\n",
       "      <td>0.0</td>\n",
       "      <td>0.0</td>\n",
       "      <td>0.0</td>\n",
       "    </tr>\n",
       "  </tbody>\n",
       "</table>\n",
       "<p>2399 rows × 10 columns</p>\n",
       "</div>"
      ],
      "text/plain": [
       "      y_pred1  y_true1  y_pred2  y_true2  y_pred3  y_true3  y_pred4  y_true4  \\\n",
       "1         0.0      0.0      0.0      0.0      0.0      0.0      0.0      0.0   \n",
       "2         0.0      0.0      0.0      0.0      0.0      0.0      0.0      0.0   \n",
       "3         0.0      0.0      0.0      0.0      0.0      0.0      0.0      1.0   \n",
       "4         0.0      0.0      0.0      0.0      0.0      0.0      0.0      0.0   \n",
       "5         0.0      0.0      0.0      0.0      0.0      0.0      0.0      0.0   \n",
       "...       ...      ...      ...      ...      ...      ...      ...      ...   \n",
       "2395      0.0      0.0      0.0      0.0      0.0      0.0      0.0      0.0   \n",
       "2396      0.0      0.0      0.0      0.0      0.0      0.0      0.0      0.0   \n",
       "2397      0.0      0.0      0.0      0.0      0.0      0.0      0.0      0.0   \n",
       "2398      0.0      0.0      0.0      0.0      0.0      0.0      0.0      0.0   \n",
       "2399      0.0      0.0      0.0      0.0      0.0      0.0      0.0      0.0   \n",
       "\n",
       "      y_pred5  y_true5  \n",
       "1         0.0      0.0  \n",
       "2         0.0      0.0  \n",
       "3         0.0      0.0  \n",
       "4         0.0      0.0  \n",
       "5         0.0      0.0  \n",
       "...       ...      ...  \n",
       "2395      0.0      0.0  \n",
       "2396      0.0      0.0  \n",
       "2397      0.0      0.0  \n",
       "2398      0.0      0.0  \n",
       "2399      0.0      0.0  \n",
       "\n",
       "[2399 rows x 10 columns]"
      ]
     },
     "execution_count": 19,
     "metadata": {},
     "output_type": "execute_result"
    }
   ],
   "source": [
    "relevant_df = pd.DataFrame(index = title_index.keys(), columns= ['y_pred1','y_true1','y_pred2','y_true2','y_pred3','y_true3','y_pred4','y_true4','y_pred5','y_true5'])\n",
    "columns_pred = ['y_pred1','y_pred2','y_pred3','y_pred4','y_pred5']\n",
    "columns_true = ['y_true1','y_true2','y_true3','y_true4','y_true5']\n",
    "\n",
    "relevant_df = relevant_df.fillna(0.0)\n",
    "\n",
    "for i in range(len(columns_pred)):\n",
    "    for j in range(len(scores_docs[i])):\n",
    "        relevant_df[columns_pred[i]][scores_docs[i][j][1]] = scores_docs[i][j][0]\n",
    "\n",
    "for q in range(len(queries)):\n",
    "    query = build_terms(queries[q])\n",
    "    word1=query[0]\n",
    "    word2=query[1]\n",
    "    for i in title_index.keys():\n",
    "        if word1 in texts_processed[i-1] and word2 in texts_processed[i-1]:\n",
    "            relevant_df[columns_true[q]][i]=1\n",
    "\n",
    "relevant_df"
   ]
  },
  {
   "cell_type": "markdown",
   "metadata": {},
   "source": [
    "First we define all the functions for the different techniques:"
   ]
  },
  {
   "cell_type": "code",
   "execution_count": 20,
   "metadata": {},
   "outputs": [],
   "source": [
    "def precision_at_k(y_pred, y_truee,k):\n",
    "    '''    \n",
    "    Parameters\n",
    "    ----------\n",
    "    y_true: Ground truth (true relevance labels)\n",
    "    k : number of doc to consider.\n",
    "    \n",
    "    Returns\n",
    "    -------\n",
    "    precision @k : float\n",
    "    \n",
    "    ''' \n",
    "    ordered = relevant_df.sort_values(by=y_pred, ascending=False)\n",
    "    y_true = ordered[y_truee][:k]\n",
    "    relevant = sum(y_true==1)\n",
    "    return relevant/len(relevant_df[relevant_df[y_pred]>0])\n",
    "\n",
    "    \"\"\"else:\n",
    "        print('k is larger than the documents manually evaluated')\n",
    "    \"\"\""
   ]
  },
  {
   "cell_type": "code",
   "execution_count": 21,
   "metadata": {},
   "outputs": [],
   "source": [
    "def avg_precision_at_k(y_pred, y_truee, k):\n",
    "    \n",
    "    '''\n",
    "    Parameters\n",
    "    ----------\n",
    "    y_true: Ground truth (true relevance labels).\n",
    "    k : number of doc to consider.\n",
    "    \n",
    "    Returns\n",
    "    -------\n",
    "    average precision @k : float\n",
    "    '''\n",
    "    ordered = relevant_df.sort_values(by=y_pred, ascending=False)\n",
    "    y_true = ordered[y_truee][:k]\n",
    "    gtp = np.sum(y_true == 1)\n",
    "\n",
    "    ## if all docs are not relevant\n",
    "    if gtp==0:\n",
    "        return 0\n",
    "    n_relevant_at_i = 0\n",
    "    prec_at_i = 0\n",
    "    for i in range(len(y_true)):\n",
    "        if y_true[y_true.index[i]] == 1:\n",
    "            n_relevant_at_i += 1\n",
    "            prec_at_i += n_relevant_at_i / (i+1)\n",
    "    return prec_at_i/gtp"
   ]
  },
  {
   "cell_type": "code",
   "execution_count": 22,
   "metadata": {},
   "outputs": [],
   "source": [
    "def map_at_k(avg_prec):\n",
    "    return sum(avg_prec)/len(avg_prec)"
   ]
  },
  {
   "cell_type": "code",
   "execution_count": 23,
   "metadata": {},
   "outputs": [],
   "source": [
    "def mrr_k():\n",
    "    mrr=0\n",
    "    for i in range(len(queries)):\n",
    "        ordered = relevant_df.sort_values(by=columns_pred[i], ascending=False)\n",
    "        rank=0\n",
    "        for j in ordered[columns_pred[i]]:\n",
    "            rank+=1\n",
    "            if j>0:\n",
    "                mrr+=1/(rank)\n",
    "                break\n",
    "    return mrr/len(queries)"
   ]
  },
  {
   "cell_type": "code",
   "execution_count": 24,
   "metadata": {},
   "outputs": [],
   "source": [
    "def DCG(y_pred,y_true):\n",
    "    relevants = relevant_df[relevant_df[y_pred]>0][y_true]\n",
    "    DCG = pd.DataFrame(index = [i for i in range(1,len(relevants)+1)],columns= ['y_true','gain','DCG','DCG_ideal'])\n",
    "\n",
    "    DCG['y_true'] = list(relevants)\n",
    "\n",
    "    for i in range(len(DCG)):\n",
    "        DCG['gain'][DCG.index[i]] = min(DCG['y_true'][DCG.index[i]] * 1/math.log(DCG.index[i],2),1)\n",
    "    DCG['DCG'] = DCG['gain'].cumsum()\n",
    "\n",
    "    for i in range(len(DCG)):\n",
    "        DCG['DCG_ideal'][DCG.index[i]] = min(((2**DCG['y_true'][DCG.index[i]]) -1 ) / math.log(DCG.index[i],2),1)\n",
    "    DCG['DCG_ideal'] = DCG['DCG_ideal'].cumsum()    \n",
    "    DCG['NDCG'] = DCG['DCG']/DCG['DCG_ideal']\n",
    "    return int(DCG['NDCG'][-1:])"
   ]
  },
  {
   "cell_type": "code",
   "execution_count": 25,
   "metadata": {},
   "outputs": [
    {
     "name": "stdout",
     "output_type": "stream",
     "text": [
      "Precision: [1.0, 1.0, 1.0, 1.0, 1.0]\n",
      "Average precision: [1.0, 1.0, 1.0, 1.0, 1.0]\n",
      "Mean average precision: 1.0\n",
      "Mean Reciprocal Rank: 1.0\n",
      "NDCG: [1, 1, 1, 1, 1]\n"
     ]
    }
   ],
   "source": [
    "precisionK = []\n",
    "avg_precisionK = []\n",
    "DCG_results = []\n",
    "\n",
    "for i in range(len(columns_pred)):\n",
    "    p = precision_at_k( columns_pred[i], columns_true[i], top)\n",
    "    avg_p = avg_precision_at_k(columns_pred[i], columns_true[i], top)\n",
    "    dcg = DCG(columns_pred[i], columns_true[i])\n",
    "    precisionK.append(p)\n",
    "    avg_precisionK.append(avg_p)\n",
    "    DCG_results.append(dcg)\n",
    "    \n",
    "map_k=map_at_k(avg_precisionK)\n",
    "mrr = mrr_k()\n",
    "print('Precision:', precisionK)\n",
    "print('Average precision:', avg_precisionK)\n",
    "print('Mean average precision:',map_k)\n",
    "print('Mean Reciprocal Rank:', mrr)\n",
    "print('NDCG:', DCG_results)"
   ]
  },
  {
   "cell_type": "code",
   "execution_count": 26,
   "metadata": {},
   "outputs": [],
   "source": [
    "#!pip install gensim==3.0\n",
    "#!pip install tsne"
   ]
  },
  {
   "cell_type": "markdown",
   "metadata": {},
   "source": [
    "Then we represent the tweets in a two-dimensional scatter plot through the t-sne algorithm"
   ]
  },
  {
   "cell_type": "code",
   "execution_count": 27,
   "metadata": {},
   "outputs": [
    {
     "name": "stderr",
     "output_type": "stream",
     "text": [
      "Slow version of gensim.models.word2vec is being used\n",
      "under 10 jobs per worker: consider setting a smaller `batch_words' for smoother alpha decay\n"
     ]
    }
   ],
   "source": [
    "# Train a Word2Vec model\n",
    "model = Word2Vec(texts_processed, min_count=1)\n",
    "words = list(model.wv.vocab)\n"
   ]
  },
  {
   "cell_type": "markdown",
   "metadata": {},
   "source": [
    "We do first the plot considering each word for the feature representation:"
   ]
  },
  {
   "cell_type": "code",
   "execution_count": 28,
   "metadata": {
    "scrolled": true
   },
   "outputs": [
    {
     "data": {
      "image/png": "[encoded data removed]",
      "text/plain": [
       "<Figure size 432x288 with 1 Axes>"
      ]
     },
     "metadata": {
      "needs_background": "light"
     },
     "output_type": "display_data"
    }
   ],
   "source": [
    "X = model[model.wv.vocab]\n",
    "X_embedded = TSNE(2, 50,30).fit_transform(X)\n",
    "Y=X_embedded\n",
    "fig, ax = plt.subplots()\n",
    "ax.plot(Y[:, 0], Y[:, 1], 'o')\n",
    "ax.set_title('Tweets')\n",
    "plt.show()\n"
   ]
  },
  {
   "cell_type": "markdown",
   "metadata": {},
   "source": [
    "Now we use the feature vectors we obtained for all the words contained in a tweet in order to obtain the same representation but now for each tweet instead of each word"
   ]
  },
  {
   "cell_type": "code",
   "execution_count": 29,
   "metadata": {},
   "outputs": [],
   "source": [
    "model_tweets=[]\n",
    "for i in range(len(texts_processed)):\n",
    "    try:\n",
    "        array = model[texts_processed[i][0]].copy()\n",
    "        for j in texts_processed[i]:\n",
    "            array += model[j].copy()\n",
    "        array = array/len(texts_processed[i])    \n",
    "        model_tweets.append(array)\n",
    "    except:\n",
    "        continue\n",
    "    "
   ]
  },
  {
   "cell_type": "code",
   "execution_count": 33,
   "metadata": {},
   "outputs": [
    {
     "data": {
      "image/png": "[encoded data removed]",
      "text/plain": [
       "<Figure size 432x288 with 1 Axes>"
      ]
     },
     "metadata": {
      "needs_background": "light"
     },
     "output_type": "display_data"
    }
   ],
   "source": [
    "from sklearn.manifold import TSNE\n",
    "X_embedded = TSNE(2, 50,30).fit_transform(model_tweets)\n",
    "Y=X_embedded\n",
    "fig, ax = plt.subplots()\n",
    "ax.plot(Y[:, 0], Y[:, 1], 'o')\n",
    "ax.set_title('Tweets')\n",
    "plt.show()"
   ]
  }
 ],
 "metadata": {
  "kernelspec": {
   "display_name": "Python 3",
   "language": "python",
   "name": "python3"
  },
  "language_info": {
   "codemirror_mode": {
    "name": "ipython",
    "version": 3
   },
   "file_extension": ".py",
   "mimetype": "text/x-python",
   "name": "python",
   "nbconvert_exporter": "python",
   "pygments_lexer": "ipython3",
   "version": "3.8.5"
  }
 },
 "nbformat": 4,
 "nbformat_minor": 4
}
